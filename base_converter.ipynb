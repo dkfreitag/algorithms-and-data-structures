{
 "cells": [
  {
   "cell_type": "code",
   "execution_count": 1,
   "metadata": {},
   "outputs": [],
   "source": [
    "# Implementation of a base conversion algorithm\n",
    "# Convert from decimal to any base between 2 and 16\n",
    "\n",
    "from data_structures import Stack"
   ]
  },
  {
   "cell_type": "code",
   "execution_count": 2,
   "metadata": {},
   "outputs": [],
   "source": [
    "def baseConverter(decimal_num, base):\n",
    "    # initialize needed variables\n",
    "    digits = '0123456789ABCDEF'\n",
    "    my_stack = Stack()\n",
    "    num_string = ''\n",
    "\n",
    "    # takes the decimal number and divides by the base\n",
    "    # pushes the remainder onto the stack\n",
    "    # sets the decimal number to the result of floor division and repeats\n",
    "    while decimal_num > 0:\n",
    "        remainder = decimal_num % base\n",
    "        my_stack.push(remainder)\n",
    "        decimal_num = decimal_num // base\n",
    "    \n",
    "    # pop all the items from the stack into num_string\n",
    "    # this effectively reverses the order of the stack, storing it in num_string\n",
    "    while not my_stack.isEmpty():\n",
    "        num_string += digits[my_stack.pop()]\n",
    "\n",
    "    return num_string"
   ]
  },
  {
   "cell_type": "code",
   "execution_count": 3,
   "metadata": {},
   "outputs": [
    {
     "data": {
      "text/plain": [
       "'2A'"
      ]
     },
     "execution_count": 3,
     "metadata": {},
     "output_type": "execute_result"
    }
   ],
   "source": [
    "baseConverter(42, 16)"
   ]
  },
  {
   "cell_type": "code",
   "execution_count": null,
   "metadata": {},
   "outputs": [],
   "source": []
  }
 ],
 "metadata": {
  "interpreter": {
   "hash": "aee8b7b246df8f9039afb4144a1f6fd8d2ca17a180786b69acc140d282b71a49"
  },
  "kernelspec": {
   "display_name": "Python 3.8.5 64-bit",
   "language": "python",
   "name": "python3"
  },
  "language_info": {
   "codemirror_mode": {
    "name": "ipython",
    "version": 3
   },
   "file_extension": ".py",
   "mimetype": "text/x-python",
   "name": "python",
   "nbconvert_exporter": "python",
   "pygments_lexer": "ipython3",
   "version": "3.8.5"
  },
  "orig_nbformat": 4
 },
 "nbformat": 4,
 "nbformat_minor": 2
}
