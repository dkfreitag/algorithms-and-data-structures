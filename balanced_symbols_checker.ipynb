{
 "cells": [
  {
   "cell_type": "code",
   "execution_count": 1,
   "metadata": {},
   "outputs": [],
   "source": [
    "# Implement a function that checks whether symbols are balanced\n",
    "# i.e. if you open a ( you must close it with a ).\n",
    "\n",
    "from data_structures import Stack"
   ]
  },
  {
   "cell_type": "code",
   "execution_count": 2,
   "metadata": {},
   "outputs": [],
   "source": [
    "def balancedSymbolsChecker(symbol_str):\n",
    "    s = Stack()\n",
    "\n",
    "    balanced = True\n",
    "    index = 0\n",
    "\n",
    "    # Use index to move through the symbol string.\n",
    "    #\n",
    "    # If an opening symbol is encountered, push it to the stack.\n",
    "    #\n",
    "    # If something other than an opening symbol is encountered (a closing symbol),\n",
    "    # and the stack is empty, then the string is not balanced.\n",
    "    #\n",
    "    # If something other than an opening symbol is encountered (a closing symbol),\n",
    "    # and the stack has items, pop the most recent item and compare it to the\n",
    "    # corresponding opening symbol. If they're a match, great. If not, we're unbalanced.\n",
    "    \n",
    "    while index < len(symbol_str) and balanced:\n",
    "        symbol = symbol_str[index]\n",
    "        if symbol in '({[':\n",
    "            s.push(symbol)\n",
    "        else:\n",
    "            if s.isEmpty():\n",
    "                balanced = False\n",
    "            else:\n",
    "                top = s.pop()\n",
    "                if not matches(top, symbol):\n",
    "                    balanced = False\n",
    "        index += 1\n",
    "    \n",
    "    # If we got this far and balanced is still true and the stack is empty,\n",
    "    # then it is balanced.\n",
    "    #\n",
    "    # If we get here and there are still items on the stack we are unbalanced.\n",
    "    \n",
    "    if balanced and s.isEmpty():\n",
    "        return True\n",
    "    else:\n",
    "        return False\n",
    "\n",
    "def matches(open, close):\n",
    "    openers = '({['\n",
    "    closers = ')}]'\n",
    "\n",
    "    # If the character in 'open' has the same index as the character in 'close'\n",
    "    # then they are matched, so return True. Else, return False.\n",
    "    return openers.index(open) == closers.index(close)"
   ]
  },
  {
   "cell_type": "code",
   "execution_count": 3,
   "metadata": {},
   "outputs": [
    {
     "data": {
      "text/plain": [
       "True"
      ]
     },
     "execution_count": 3,
     "metadata": {},
     "output_type": "execute_result"
    }
   ],
   "source": [
    "balancedSymbolsChecker('()')"
   ]
  },
  {
   "cell_type": "code",
   "execution_count": 4,
   "metadata": {},
   "outputs": [
    {
     "data": {
      "text/plain": [
       "True"
      ]
     },
     "execution_count": 4,
     "metadata": {},
     "output_type": "execute_result"
    }
   ],
   "source": [
    "balancedSymbolsChecker('()([{([[]])}]){}[{()(([]))}]')"
   ]
  },
  {
   "cell_type": "code",
   "execution_count": 5,
   "metadata": {},
   "outputs": [
    {
     "data": {
      "text/plain": [
       "False"
      ]
     },
     "execution_count": 5,
     "metadata": {},
     "output_type": "execute_result"
    }
   ],
   "source": [
    "balancedSymbolsChecker('([)]')"
   ]
  },
  {
   "cell_type": "code",
   "execution_count": null,
   "metadata": {},
   "outputs": [],
   "source": []
  }
 ],
 "metadata": {
  "interpreter": {
   "hash": "d6b62a67c3cb82c59c22fc1ee8c926e5c2fdaecb1657b4815a0a3d88bd553adb"
  },
  "kernelspec": {
   "display_name": "Python 3.8.5 ('base')",
   "language": "python",
   "name": "python3"
  },
  "language_info": {
   "codemirror_mode": {
    "name": "ipython",
    "version": 3
   },
   "file_extension": ".py",
   "mimetype": "text/x-python",
   "name": "python",
   "nbconvert_exporter": "python",
   "pygments_lexer": "ipython3",
   "version": "3.8.10"
  },
  "orig_nbformat": 4
 },
 "nbformat": 4,
 "nbformat_minor": 2
}
