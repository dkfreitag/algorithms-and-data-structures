{
 "cells": [
  {
   "cell_type": "code",
   "execution_count": 7,
   "metadata": {},
   "outputs": [],
   "source": [
    "# Anagram detector\n",
    "# Speed: O(n)\n",
    "\n",
    "def anagramDetector(string_1, string_2):\n",
    "    # initialize empty lists, one value for each letter in the alphabet\n",
    "    char_cnt_1 = [0] * 26\n",
    "    char_cnt_2 = [0] * 26\n",
    "\n",
    "    letter_index = 0\n",
    "\n",
    "    # loop through the first string and count the number of times each letter occurs\n",
    "    for i in range(len(string_1)):\n",
    "        # what is the index of the letter from 0 to 25?\n",
    "        letter_index = ord(string_1[i]) - ord('a')\n",
    "\n",
    "        # at the letter index (i.e. index 1 for 'b'), increase the count by 1        \n",
    "        char_cnt_1[letter_index] += 1\n",
    "\n",
    "    # repeat with string_2\n",
    "    for i in range(len(string_2)):\n",
    "        letter_index = ord(string_2[i]) - ord('a')\n",
    "        char_cnt_2[letter_index] += 1\n",
    "\n",
    "    j = 0\n",
    "    is_anagram = True\n",
    "    \n",
    "    # loop through every letter\n",
    "    while j < 26 and is_anagram:\n",
    "        # is the count of times each letter occurs the same in both strings?\n",
    "        if char_cnt_1[j] == char_cnt_2[j]:\n",
    "            j += 1\n",
    "        else:\n",
    "            # they're not the same, it's not an anagram\n",
    "            is_anagram = False\n",
    "\n",
    "    return is_anagram\n"
   ]
  },
  {
   "cell_type": "code",
   "execution_count": 8,
   "metadata": {},
   "outputs": [
    {
     "data": {
      "text/plain": [
       "True"
      ]
     },
     "execution_count": 8,
     "metadata": {},
     "output_type": "execute_result"
    }
   ],
   "source": [
    "anagramDetector('yahoo', 'hooya')"
   ]
  },
  {
   "cell_type": "code",
   "execution_count": 9,
   "metadata": {},
   "outputs": [
    {
     "data": {
      "text/plain": [
       "False"
      ]
     },
     "execution_count": 9,
     "metadata": {},
     "output_type": "execute_result"
    }
   ],
   "source": [
    "anagramDetector('dude', 'bro')"
   ]
  },
  {
   "cell_type": "code",
   "execution_count": null,
   "metadata": {},
   "outputs": [],
   "source": []
  }
 ],
 "metadata": {
  "interpreter": {
   "hash": "d6b62a67c3cb82c59c22fc1ee8c926e5c2fdaecb1657b4815a0a3d88bd553adb"
  },
  "kernelspec": {
   "display_name": "Python 3.8.5 ('base')",
   "language": "python",
   "name": "python3"
  },
  "language_info": {
   "codemirror_mode": {
    "name": "ipython",
    "version": 3
   },
   "file_extension": ".py",
   "mimetype": "text/x-python",
   "name": "python",
   "nbconvert_exporter": "python",
   "pygments_lexer": "ipython3",
   "version": "3.8.5"
  },
  "orig_nbformat": 4
 },
 "nbformat": 4,
 "nbformat_minor": 2
}
